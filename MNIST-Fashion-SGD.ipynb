{
 "cells": [
  {
   "cell_type": "code",
   "execution_count": 2,
   "metadata": {},
   "outputs": [
    {
     "name": "stderr",
     "output_type": "stream",
     "text": [
      "Using TensorFlow backend.\n"
     ]
    }
   ],
   "source": [
    "import tensorflow as tf\n",
    "import keras\n",
    "import matplotlib.pyplot as plt\n",
    "import numpy as np\n",
    "\n",
    "(x_train, y_train), (x_test, y_test) = keras.datasets.fashion_mnist.load_data()"
   ]
  },
  {
   "cell_type": "code",
   "execution_count": 3,
   "metadata": {},
   "outputs": [
    {
     "data": {
      "image/png": "[encoded data removed]",
      "text/plain": [
       "<Figure size 432x288 with 1 Axes>"
      ]
     },
     "metadata": {
      "needs_background": "light"
     },
     "output_type": "display_data"
    }
   ],
   "source": [
    "class_names = ['T-shirt/top', 'Trouser', 'Pullover', 'Dress', 'Coat', \n",
    "               'Sandal', 'Shirt', 'Sneaker', 'Bag', 'Ankle boot']\n",
    "\n",
    "# normalize dataset\n",
    "x_train = x_train / 255.0\n",
    "x_test = x_test / 255.0\n",
    "\n",
    "# show a picture example\n",
    "plt.imshow(x_train[3])\n",
    "plt.show()"
   ]
  },
  {
   "cell_type": "code",
   "execution_count": 4,
   "metadata": {},
   "outputs": [
    {
     "data": {
      "text/plain": [
       "(10000, 28, 28)"
      ]
     },
     "execution_count": 4,
     "metadata": {},
     "output_type": "execute_result"
    }
   ],
   "source": [
    "x_test.shape"
   ]
  },
  {
   "cell_type": "code",
   "execution_count": 3,
   "metadata": {},
   "outputs": [],
   "source": [
    "model = keras.Sequential()\n",
    "model.add(keras.layers.Flatten())\n",
    "model.add(keras.layers.Dense(128, activation='relu', input_dim=784))\n",
    "model.add(keras.layers.Dense(128, activation='relu'))\n",
    "model.add(keras.layers.Dense(10, activation='softmax'))"
   ]
  },
  {
   "cell_type": "code",
   "execution_count": 4,
   "metadata": {},
   "outputs": [],
   "source": [
    "learning_rate = 0.01\n",
    "sgd = keras.optimizers.SGD(learning_rate) # stochastic gradiend descent\n",
    "\n",
    "model.compile(optimizer=sgd, \n",
    "              loss='sparse_categorical_crossentropy', # for \"non one-hot encoded\" classification\n",
    "              metrics=['accuracy'])\n",
    "\n",
    "# model.compile(optimizer='sgd',\n",
    "#               loss='sparse_categorical_crossentropy',\n",
    "#               metrics=['accuracy'])"
   ]
  },
  {
   "cell_type": "code",
   "execution_count": 5,
   "metadata": {},
   "outputs": [
    {
     "name": "stdout",
     "output_type": "stream",
     "text": [
      "Epoch 1/10\n",
      "60000/60000 [==============================] - 4s 64us/step - loss: 0.7382 - acc: 0.7538\n",
      "Epoch 2/10\n",
      "60000/60000 [==============================] - 5s 90us/step - loss: 0.4948 - acc: 0.8268\n",
      "Epoch 3/10\n",
      "60000/60000 [==============================] - 6s 98us/step - loss: 0.4492 - acc: 0.8419\n",
      "Epoch 4/10\n",
      "60000/60000 [==============================] - 6s 96us/step - loss: 0.4226 - acc: 0.8531\n",
      "Epoch 5/10\n",
      "60000/60000 [==============================] - 6s 102us/step - loss: 0.4023 - acc: 0.8594\n",
      "Epoch 6/10\n",
      "60000/60000 [==============================] - 6s 101us/step - loss: 0.3878 - acc: 0.8639\n",
      "Epoch 7/10\n",
      "60000/60000 [==============================] - 6s 105us/step - loss: 0.3723 - acc: 0.8689\n",
      "Epoch 8/10\n",
      "60000/60000 [==============================] - 7s 112us/step - loss: 0.3621 - acc: 0.8723\n",
      "Epoch 9/10\n",
      "60000/60000 [==============================] - 6s 98us/step - loss: 0.3525 - acc: 0.8752\n",
      "Epoch 10/10\n",
      "60000/60000 [==============================] - 5s 90us/step - loss: 0.3429 - acc: 0.8782\n"
     ]
    },
    {
     "data": {
      "text/plain": [
       "<keras.callbacks.History at 0x7f8ba06bb080>"
      ]
     },
     "execution_count": 5,
     "metadata": {},
     "output_type": "execute_result"
    }
   ],
   "source": [
    "model.fit(x_train, y_train, epochs=10)"
   ]
  },
  {
   "cell_type": "code",
   "execution_count": 6,
   "metadata": {},
   "outputs": [
    {
     "name": "stdout",
     "output_type": "stream",
     "text": [
      "10000/10000 [==============================] - 0s 38us/step\n",
      "0.3895499176263809 0.8586\n"
     ]
    }
   ],
   "source": [
    "val_loss, val_acc = model.evaluate(x_test, y_test)\n",
    "print(val_loss, val_acc)"
   ]
  },
  {
   "cell_type": "code",
   "execution_count": 7,
   "metadata": {},
   "outputs": [
    {
     "name": "stdout",
     "output_type": "stream",
     "text": [
      "[0.00006336 0.00001484 0.01192469 0.00080374 0.12754546 0.00000118\n",
      " 0.8582533  0.00000003 0.00139343 0.00000004]\n"
     ]
    }
   ],
   "source": [
    "# checking our neural network for prediction\n",
    "\n",
    "predictions = model.predict(x_test)\n",
    "np.set_printoptions(suppress=True)\n",
    "\n",
    "# generate random number for choosing random clothes\n",
    "from random import randint\n",
    "clothes_index = randint(0, 9999)\n",
    "print(predictions[clothes_index])"
   ]
  },
  {
   "cell_type": "code",
   "execution_count": 8,
   "metadata": {},
   "outputs": [
    {
     "name": "stdout",
     "output_type": "stream",
     "text": [
      "Model predicted: Shirt\n"
     ]
    }
   ],
   "source": [
    "prediction_num = np.argmax(predictions[clothes_index])\n",
    "print(\"Model predicted: %s\" % class_names[prediction_num])"
   ]
  },
  {
   "cell_type": "code",
   "execution_count": 9,
   "metadata": {},
   "outputs": [
    {
     "name": "stdout",
     "output_type": "stream",
     "text": [
      "And in the picture was:\n"
     ]
    },
    {
     "data": {
      "image/png": "[encoded data removed]",
      "text/plain": [
       "<Figure size 432x288 with 1 Axes>"
      ]
     },
     "metadata": {
      "needs_background": "light"
     },
     "output_type": "display_data"
    }
   ],
   "source": [
    "print(\"And in the picture was:\")\n",
    "plt.imshow(x_test[clothes_index])\n",
    "plt.show()"
   ]
  }
 ],
 "metadata": {
  "kernelspec": {
   "display_name": "main_env",
   "language": "python",
   "name": "main_env"
  },
  "language_info": {
   "codemirror_mode": {
    "name": "ipython",
    "version": 3
   },
   "file_extension": ".py",
   "mimetype": "text/x-python",
   "name": "python",
   "nbconvert_exporter": "python",
   "pygments_lexer": "ipython3",
   "version": "3.5.2"
  }
 },
 "nbformat": 4,
 "nbformat_minor": 2
}
